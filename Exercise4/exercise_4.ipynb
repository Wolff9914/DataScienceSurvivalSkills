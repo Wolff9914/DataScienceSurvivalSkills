{
 "cells": [
  {
   "cell_type": "markdown",
   "id": "d909c9f7",
   "metadata": {},
   "source": [
    "# Exercise 4: Data exploration and visualization\n",
    "\n",
    "We will work with the \"IT Salary Survey EU 2020\" dataset <br> See: https://www.kaggle.com/datasets/parulpandey/2020-it-salary-survey-for-eu-region/"
   ]
  },
  {
   "cell_type": "code",
   "execution_count": 3,
   "id": "c77bc294",
   "metadata": {},
   "outputs": [],
   "source": [
    "import pandas as pd\n",
    "import numpy as np\n",
    "import matplotlib.pyplot as plt\n",
    "import seaborn as sns"
   ]
  },
  {
   "cell_type": "code",
   "execution_count": 4,
   "id": "83673d02",
   "metadata": {},
   "outputs": [
    {
     "data": {
      "text/html": [
       "<div>\n",
       "<style scoped>\n",
       "    .dataframe tbody tr th:only-of-type {\n",
       "        vertical-align: middle;\n",
       "    }\n",
       "\n",
       "    .dataframe tbody tr th {\n",
       "        vertical-align: top;\n",
       "    }\n",
       "\n",
       "    .dataframe thead th {\n",
       "        text-align: right;\n",
       "    }\n",
       "</style>\n",
       "<table border=\"1\" class=\"dataframe\">\n",
       "  <thead>\n",
       "    <tr style=\"text-align: right;\">\n",
       "      <th></th>\n",
       "      <th>Timestamp</th>\n",
       "      <th>Age</th>\n",
       "      <th>Gender</th>\n",
       "      <th>City</th>\n",
       "      <th>Position</th>\n",
       "      <th>Total years of experience</th>\n",
       "      <th>Years of experience in Germany</th>\n",
       "      <th>Seniority level</th>\n",
       "      <th>Your main technology / programming language</th>\n",
       "      <th>Other technologies/programming languages you use often</th>\n",
       "      <th>...</th>\n",
       "      <th>Annual bonus+stocks one year ago. Only answer if staying in same country</th>\n",
       "      <th>Number of vacation days</th>\n",
       "      <th>Employment status</th>\n",
       "      <th>Сontract duration</th>\n",
       "      <th>Main language at work</th>\n",
       "      <th>Company size</th>\n",
       "      <th>Company type</th>\n",
       "      <th>Have you lost your job due to the coronavirus outbreak?</th>\n",
       "      <th>Have you been forced to have a shorter working week (Kurzarbeit)? If yes, how many hours per week</th>\n",
       "      <th>Have you received additional monetary support from your employer due to Work From Home? If yes, how much in 2020 in EUR</th>\n",
       "    </tr>\n",
       "  </thead>\n",
       "  <tbody>\n",
       "    <tr>\n",
       "      <th>0</th>\n",
       "      <td>24/11/2020 11:14:15</td>\n",
       "      <td>26.0</td>\n",
       "      <td>Male</td>\n",
       "      <td>Munich</td>\n",
       "      <td>Software Engineer</td>\n",
       "      <td>5</td>\n",
       "      <td>3</td>\n",
       "      <td>Senior</td>\n",
       "      <td>TypeScript</td>\n",
       "      <td>Kotlin, Javascript / Typescript</td>\n",
       "      <td>...</td>\n",
       "      <td>10000</td>\n",
       "      <td>30</td>\n",
       "      <td>Full-time employee</td>\n",
       "      <td>Unlimited contract</td>\n",
       "      <td>English</td>\n",
       "      <td>51-100</td>\n",
       "      <td>Product</td>\n",
       "      <td>No</td>\n",
       "      <td>NaN</td>\n",
       "      <td>NaN</td>\n",
       "    </tr>\n",
       "    <tr>\n",
       "      <th>1</th>\n",
       "      <td>24/11/2020 11:14:16</td>\n",
       "      <td>26.0</td>\n",
       "      <td>Male</td>\n",
       "      <td>Berlin</td>\n",
       "      <td>Backend Developer</td>\n",
       "      <td>7</td>\n",
       "      <td>4</td>\n",
       "      <td>Senior</td>\n",
       "      <td>Ruby</td>\n",
       "      <td>NaN</td>\n",
       "      <td>...</td>\n",
       "      <td>5000</td>\n",
       "      <td>28</td>\n",
       "      <td>Full-time employee</td>\n",
       "      <td>Unlimited contract</td>\n",
       "      <td>English</td>\n",
       "      <td>101-1000</td>\n",
       "      <td>Product</td>\n",
       "      <td>No</td>\n",
       "      <td>NaN</td>\n",
       "      <td>NaN</td>\n",
       "    </tr>\n",
       "    <tr>\n",
       "      <th>2</th>\n",
       "      <td>24/11/2020 11:14:21</td>\n",
       "      <td>29.0</td>\n",
       "      <td>Male</td>\n",
       "      <td>Berlin</td>\n",
       "      <td>Software Engineer</td>\n",
       "      <td>12</td>\n",
       "      <td>6</td>\n",
       "      <td>Lead</td>\n",
       "      <td>Javascript / Typescript</td>\n",
       "      <td>Javascript / Typescript, Docker</td>\n",
       "      <td>...</td>\n",
       "      <td>100000</td>\n",
       "      <td>30</td>\n",
       "      <td>Self-employed (freelancer)</td>\n",
       "      <td>Temporary contract</td>\n",
       "      <td>English</td>\n",
       "      <td>101-1000</td>\n",
       "      <td>Product</td>\n",
       "      <td>Yes</td>\n",
       "      <td>NaN</td>\n",
       "      <td>NaN</td>\n",
       "    </tr>\n",
       "    <tr>\n",
       "      <th>3</th>\n",
       "      <td>24/11/2020 11:15:24</td>\n",
       "      <td>28.0</td>\n",
       "      <td>Male</td>\n",
       "      <td>Berlin</td>\n",
       "      <td>Frontend Developer</td>\n",
       "      <td>4</td>\n",
       "      <td>1</td>\n",
       "      <td>Junior</td>\n",
       "      <td>Javascript</td>\n",
       "      <td>NaN</td>\n",
       "      <td>...</td>\n",
       "      <td>NaN</td>\n",
       "      <td>24</td>\n",
       "      <td>Full-time employee</td>\n",
       "      <td>Unlimited contract</td>\n",
       "      <td>English</td>\n",
       "      <td>51-100</td>\n",
       "      <td>Startup</td>\n",
       "      <td>No</td>\n",
       "      <td>NaN</td>\n",
       "      <td>NaN</td>\n",
       "    </tr>\n",
       "    <tr>\n",
       "      <th>4</th>\n",
       "      <td>24/11/2020 11:15:46</td>\n",
       "      <td>37.0</td>\n",
       "      <td>Male</td>\n",
       "      <td>Berlin</td>\n",
       "      <td>Backend Developer</td>\n",
       "      <td>17</td>\n",
       "      <td>6</td>\n",
       "      <td>Senior</td>\n",
       "      <td>C# .NET</td>\n",
       "      <td>.NET, SQL, AWS, Docker</td>\n",
       "      <td>...</td>\n",
       "      <td>NaN</td>\n",
       "      <td>29</td>\n",
       "      <td>Full-time employee</td>\n",
       "      <td>Unlimited contract</td>\n",
       "      <td>English</td>\n",
       "      <td>101-1000</td>\n",
       "      <td>Product</td>\n",
       "      <td>No</td>\n",
       "      <td>NaN</td>\n",
       "      <td>NaN</td>\n",
       "    </tr>\n",
       "  </tbody>\n",
       "</table>\n",
       "<p>5 rows × 23 columns</p>\n",
       "</div>"
      ],
      "text/plain": [
       "             Timestamp   Age Gender    City           Position   \\\n",
       "0  24/11/2020 11:14:15  26.0   Male  Munich   Software Engineer   \n",
       "1  24/11/2020 11:14:16  26.0   Male  Berlin   Backend Developer   \n",
       "2  24/11/2020 11:14:21  29.0   Male  Berlin   Software Engineer   \n",
       "3  24/11/2020 11:15:24  28.0   Male  Berlin  Frontend Developer   \n",
       "4  24/11/2020 11:15:46  37.0   Male  Berlin   Backend Developer   \n",
       "\n",
       "  Total years of experience Years of experience in Germany Seniority level  \\\n",
       "0                         5                              3          Senior   \n",
       "1                         7                              4          Senior   \n",
       "2                        12                              6            Lead   \n",
       "3                         4                              1          Junior   \n",
       "4                        17                              6          Senior   \n",
       "\n",
       "  Your main technology / programming language  \\\n",
       "0                                  TypeScript   \n",
       "1                                        Ruby   \n",
       "2                     Javascript / Typescript   \n",
       "3                                  Javascript   \n",
       "4                                     C# .NET   \n",
       "\n",
       "  Other technologies/programming languages you use often  ...  \\\n",
       "0                    Kotlin, Javascript / Typescript      ...   \n",
       "1                                                NaN      ...   \n",
       "2                    Javascript / Typescript, Docker      ...   \n",
       "3                                                NaN      ...   \n",
       "4                             .NET, SQL, AWS, Docker      ...   \n",
       "\n",
       "   Annual bonus+stocks one year ago. Only answer if staying in same country  \\\n",
       "0                                              10000                          \n",
       "1                                               5000                          \n",
       "2                                             100000                          \n",
       "3                                                NaN                          \n",
       "4                                                NaN                          \n",
       "\n",
       "  Number of vacation days           Employment status   Сontract duration  \\\n",
       "0                      30          Full-time employee  Unlimited contract   \n",
       "1                      28          Full-time employee  Unlimited contract   \n",
       "2                      30  Self-employed (freelancer)  Temporary contract   \n",
       "3                      24          Full-time employee  Unlimited contract   \n",
       "4                      29          Full-time employee  Unlimited contract   \n",
       "\n",
       "  Main language at work Company size Company type  \\\n",
       "0               English       51-100      Product   \n",
       "1               English     101-1000      Product   \n",
       "2               English     101-1000      Product   \n",
       "3               English       51-100      Startup   \n",
       "4               English     101-1000      Product   \n",
       "\n",
       "  Have you lost your job due to the coronavirus outbreak?  \\\n",
       "0                                                 No        \n",
       "1                                                 No        \n",
       "2                                                Yes        \n",
       "3                                                 No        \n",
       "4                                                 No        \n",
       "\n",
       "  Have you been forced to have a shorter working week (Kurzarbeit)? If yes, how many hours per week  \\\n",
       "0                                                NaN                                                  \n",
       "1                                                NaN                                                  \n",
       "2                                                NaN                                                  \n",
       "3                                                NaN                                                  \n",
       "4                                                NaN                                                  \n",
       "\n",
       "  Have you received additional monetary support from your employer due to Work From Home? If yes, how much in 2020 in EUR  \n",
       "0                                                NaN                                                                       \n",
       "1                                                NaN                                                                       \n",
       "2                                                NaN                                                                       \n",
       "3                                                NaN                                                                       \n",
       "4                                                NaN                                                                       \n",
       "\n",
       "[5 rows x 23 columns]"
      ]
     },
     "execution_count": 4,
     "metadata": {},
     "output_type": "execute_result"
    }
   ],
   "source": [
    "# Load the dataset\n",
    "data_df = pd.read_csv(\"IT Salary Survey EU  2020.csv\")\n",
    "data_df.head()"
   ]
  },
  {
   "cell_type": "code",
   "execution_count": 5,
   "id": "61156ab3",
   "metadata": {},
   "outputs": [
    {
     "data": {
      "text/plain": [
       "Index(['Timestamp', 'Age', 'Gender', 'City', 'Position ',\n",
       "       'Total years of experience', 'Years of experience in Germany',\n",
       "       'Seniority level', 'Your main technology / programming language',\n",
       "       'Other technologies/programming languages you use often',\n",
       "       'Yearly brutto salary (without bonus and stocks) in EUR',\n",
       "       'Yearly bonus + stocks in EUR',\n",
       "       'Annual brutto salary (without bonus and stocks) one year ago. Only answer if staying in the same country',\n",
       "       'Annual bonus+stocks one year ago. Only answer if staying in same country',\n",
       "       'Number of vacation days', 'Employment status', 'Сontract duration',\n",
       "       'Main language at work', 'Company size', 'Company type',\n",
       "       'Have you lost your job due to the coronavirus outbreak?',\n",
       "       'Have you been forced to have a shorter working week (Kurzarbeit)? If yes, how many hours per week',\n",
       "       'Have you received additional monetary support from your employer due to Work From Home? If yes, how much in 2020 in EUR'],\n",
       "      dtype='object')"
      ]
     },
     "execution_count": 5,
     "metadata": {},
     "output_type": "execute_result"
    }
   ],
   "source": [
    "# List all columns\n",
    "data_df.columns"
   ]
  },
  {
   "cell_type": "markdown",
   "id": "238e26b5",
   "metadata": {},
   "source": [
    "## Explore programming languages"
   ]
  },
  {
   "cell_type": "code",
   "execution_count": 6,
   "id": "0cf49be6",
   "metadata": {
    "scrolled": true
   },
   "outputs": [
    {
     "data": {
      "text/plain": [
       "1253"
      ]
     },
     "execution_count": 6,
     "metadata": {},
     "output_type": "execute_result"
    }
   ],
   "source": [
    "# Lets make a copy for us to work on\n",
    "df = data_df.copy()\n",
    "len(df)"
   ]
  },
  {
   "cell_type": "code",
   "execution_count": 12,
   "id": "48e42040",
   "metadata": {},
   "outputs": [],
   "source": [
    "column_name = 'Your main technology / programming language'"
   ]
  },
  {
   "cell_type": "code",
   "execution_count": 9,
   "id": "2b2cd9af",
   "metadata": {},
   "outputs": [
    {
     "ename": "NameError",
     "evalue": "name 'column_name' is not defined",
     "output_type": "error",
     "traceback": [
      "\u001b[1;31m---------------------------------------------------------------------------\u001b[0m",
      "\u001b[1;31mNameError\u001b[0m                                 Traceback (most recent call last)",
      "Cell \u001b[1;32mIn[9], line 2\u001b[0m\n\u001b[0;32m      1\u001b[0m \u001b[38;5;66;03m# Check if values are missing (NaN)\u001b[39;00m\n\u001b[1;32m----> 2\u001b[0m df[df[\u001b[43mcolumn_name\u001b[49m]]\u001b[38;5;241m.\u001b[39misnull\n",
      "\u001b[1;31mNameError\u001b[0m: name 'column_name' is not defined"
     ]
    }
   ],
   "source": [
    "# Check if values are missing (NaN)\n",
    "df[df[column_name]].isnull"
   ]
  },
  {
   "cell_type": "code",
   "execution_count": null,
   "id": "1d6e1380",
   "metadata": {},
   "outputs": [],
   "source": [
    "# Show rows with missing values\n"
   ]
  },
  {
   "cell_type": "code",
   "execution_count": null,
   "id": "583ac530",
   "metadata": {},
   "outputs": [],
   "source": [
    "df[column_name].value_counts()"
   ]
  },
  {
   "cell_type": "code",
   "execution_count": null,
   "id": "4ed18c4b",
   "metadata": {},
   "outputs": [],
   "source": [
    "# Remove missing values\n",
    "df = df[-df[column_name].isnull()]\n",
    "len(df)"
   ]
  },
  {
   "cell_type": "markdown",
   "id": "0d54fab4",
   "metadata": {},
   "source": [
    "**$\\rightarrow$ categorical/ nominal variable**"
   ]
  },
  {
   "cell_type": "code",
   "execution_count": null,
   "id": "fbbf9ea5",
   "metadata": {},
   "outputs": [],
   "source": [
    "# List all (unique) programming languages\n"
   ]
  },
  {
   "cell_type": "code",
   "execution_count": null,
   "id": "af93e252",
   "metadata": {},
   "outputs": [],
   "source": [
    "plt.figure()\n",
    "plt.plot.bar(df[column_name])"
   ]
  },
  {
   "cell_type": "code",
   "execution_count": null,
   "id": "2fc42801",
   "metadata": {},
   "outputs": [],
   "source": [
    "# Convert to lowercase\n",
    "df[column_name] = df[column_name].str.lower()"
   ]
  },
  {
   "cell_type": "code",
   "execution_count": null,
   "id": "184b1c60",
   "metadata": {},
   "outputs": [],
   "source": [
    "# Find top 10 languages\n",
    "top10 = df[column_name].value_counts()[:10]\n",
    "top10"
   ]
  },
  {
   "cell_type": "code",
   "execution_count": null,
   "id": "79c7b905",
   "metadata": {},
   "outputs": [],
   "source": [
    "languages = \"|\".join(l for l in top10.index)\n",
    "languages"
   ]
  },
  {
   "cell_type": "code",
   "execution_count": 10,
   "id": "2c31e483",
   "metadata": {},
   "outputs": [],
   "source": [
    "# extract strings using regular expressions\n",
    "pattern = r\"(javascript|java|python|php|c\\+\\+|c#|swift|scala|go|kotlin)\"\n",
    "\n",
    "df[\"Your main technology / programming language\"] = df[\"Your main technology / programming language\"].str.extract(pattern)"
   ]
  },
  {
   "cell_type": "code",
   "execution_count": 13,
   "id": "d4fb0379",
   "metadata": {
    "scrolled": true
   },
   "outputs": [
    {
     "data": {
      "text/plain": [
       "Your main technology / programming language\n",
       "python        28\n",
       "java          10\n",
       "php            9\n",
       "javascript     8\n",
       "go             5\n",
       "c++            5\n",
       "kotlin         2\n",
       "c#             1\n",
       "swift          1\n",
       "scala          1\n",
       "Name: count, dtype: int64"
      ]
     },
     "execution_count": 13,
     "metadata": {},
     "output_type": "execute_result"
    }
   ],
   "source": [
    "# Check top 10 again\n",
    "top10 = df[column_name].value_counts()[:10]\n",
    "top10"
   ]
  },
  {
   "cell_type": "code",
   "execution_count": 14,
   "id": "b1d484d4",
   "metadata": {},
   "outputs": [],
   "source": [
    "counts = top10.sort_values()\n",
    "categories = counts.index\n",
    "count = counts.values"
   ]
  },
  {
   "cell_type": "code",
   "execution_count": 15,
   "id": "75749191",
   "metadata": {},
   "outputs": [
    {
     "data": {
      "image/png": "[encoded data removed]",
      "text/plain": [
       "<Figure size 640x480 with 1 Axes>"
      ]
     },
     "metadata": {},
     "output_type": "display_data"
    }
   ],
   "source": [
    "# use plt.bar()\n",
    "plt.bar(categories, count)\n",
    "plt.xlabel(\"programming language\")\n",
    "plt.ylabel(\"count\")\n",
    "plt.show()"
   ]
  },
  {
   "cell_type": "code",
   "execution_count": 16,
   "id": "4d195970",
   "metadata": {},
   "outputs": [
    {
     "data": {
      "image/png": "[encoded data removed]",
      "text/plain": [
       "<Figure size 640x480 with 1 Axes>"
      ]
     },
     "metadata": {},
     "output_type": "display_data"
    }
   ],
   "source": [
    "# horizonal barplot\n",
    "plt.barh(categories, count)\n",
    "plt.show()"
   ]
  },
  {
   "cell_type": "markdown",
   "id": "864221d0",
   "metadata": {},
   "source": [
    "### Preparing a plot for a (scientific) figure\n",
    "**Size and font size**\n",
    "* Page width: about 7 inches (= 180mm, typical DinA4 page with borders)\n",
    "* We want to fit two plots next to each other $\\rightarrow$ about 3 inches each\n",
    "* We set the font size to 8\n",
    "* The font should be editable in Inkscape!\n",
    "\n",
    "**Improving visuals**\n",
    "* Declutter = Remove unnecessary elements such as plot borders, grid lines etc.\n",
    "* Draw attention to the important elements\n",
    "* Avoid 3D effects\n",
    "* Use color sparingly, avoid rainbow colormaps etc."
   ]
  },
  {
   "cell_type": "code",
   "execution_count": 17,
   "id": "58e0c234",
   "metadata": {},
   "outputs": [],
   "source": [
    "# Set font size\n",
    "plt.rcParams['font.size'] = 12 # for now: 12, later: 8\n",
    "\n",
    "# Make the text editable (in the SVG file)\n",
    "plt.rcParams['svg.fonttype'] = 'none'"
   ]
  },
  {
   "cell_type": "code",
   "execution_count": 26,
   "id": "372413b5",
   "metadata": {},
   "outputs": [
    {
     "data": {
      "image/png": "[encoded data removed]",
      "text/plain": [
       "<Figure size 250x300 with 1 Axes>"
      ]
     },
     "metadata": {},
     "output_type": "display_data"
    }
   ],
   "source": [
    "plt.figure(figsize=(2.5, 3))  # 2.5 to 3 inches width\n",
    "plt.title(\"Top 10 programming languages\")\n",
    "plt.xlabel('Number of respondents')\n",
    "\n",
    "# Horizontal barplot\n",
    "bars = plt.barh(categories, count)\n",
    "\n",
    "# Add count next to each bar\n",
    "plt.bar_label(bars, padding = 5)\n",
    "\n",
    "# Remove chart border & y-axis (declutter!)\n",
    "sns.despine(left=True)\n",
    "plt.tick_params(left=True)\n",
    "# Save as PNG and SVG\n",
    "plt.savefig(\"barplot_languages.png\", bbox_inches=\"tight\")\n",
    "plt.savefig(\"barplot_languages.svg\", bbox_inches=\"tight\")\n",
    "\n",
    "plt.show()"
   ]
  },
  {
   "cell_type": "markdown",
   "id": "75a77a5b",
   "metadata": {},
   "source": [
    "## Let's visualize the column \"Age\""
   ]
  },
  {
   "cell_type": "code",
   "execution_count": 27,
   "id": "414d1f3f",
   "metadata": {},
   "outputs": [
    {
     "data": {
      "text/plain": [
       "1253"
      ]
     },
     "execution_count": 27,
     "metadata": {},
     "output_type": "execute_result"
    }
   ],
   "source": [
    "# Lets make a copy\n",
    "df = data_df.copy()\n",
    "len(df)"
   ]
  },
  {
   "cell_type": "code",
   "execution_count": 29,
   "id": "77fbd2a5",
   "metadata": {
    "scrolled": false
   },
   "outputs": [
    {
     "data": {
      "text/plain": [
       "count    1226.000000\n",
       "mean       32.509788\n",
       "std         5.663804\n",
       "min        20.000000\n",
       "25%        29.000000\n",
       "50%        32.000000\n",
       "75%        35.000000\n",
       "max        69.000000\n",
       "Name: Age, dtype: float64"
      ]
     },
     "execution_count": 29,
     "metadata": {},
     "output_type": "execute_result"
    }
   ],
   "source": [
    "#df[\"Age\"].value_counts()\n",
    "df[\"Age\"].describe()"
   ]
  },
  {
   "cell_type": "markdown",
   "id": "c0128da3",
   "metadata": {},
   "source": [
    "**$\\rightarrow$ discrete variable**"
   ]
  },
  {
   "cell_type": "code",
   "execution_count": 30,
   "id": "6ad8a79a",
   "metadata": {},
   "outputs": [
    {
     "data": {
      "text/plain": [
       "1226"
      ]
     },
     "execution_count": 30,
     "metadata": {},
     "output_type": "execute_result"
    }
   ],
   "source": [
    "# Remove missing values\n",
    "df = df[~df[\"Age\"].isnull()]\n",
    "len(df)"
   ]
  },
  {
   "cell_type": "code",
   "execution_count": 31,
   "id": "ec9e3e67",
   "metadata": {},
   "outputs": [
    {
     "data": {
      "text/plain": [
       "array([20, 22, 24, 26, 28, 30, 32, 34, 36, 38, 40, 42, 44, 46, 48, 50, 52,\n",
       "       54, 56, 58, 60, 62, 64, 66, 68])"
      ]
     },
     "execution_count": 31,
     "metadata": {},
     "output_type": "execute_result"
    }
   ],
   "source": [
    "bins = np.arange(20, 69, 2)\n",
    "bins"
   ]
  },
  {
   "cell_type": "code",
   "execution_count": null,
   "id": "fcf7e1e6",
   "metadata": {},
   "outputs": [],
   "source": [
    "# Histogram using plt.hist()\n",
    "plt.hist..\n",
    "plt.show()"
   ]
  },
  {
   "cell_type": "code",
   "execution_count": null,
   "id": "6ccfa4b9",
   "metadata": {},
   "outputs": [],
   "source": [
    "bins = np.arrange(df[\"Age\"])"
   ]
  },
  {
   "cell_type": "code",
   "execution_count": null,
   "id": "4429c794",
   "metadata": {},
   "outputs": [],
   "source": [
    "\n",
    "ret"
   ]
  },
  {
   "cell_type": "code",
   "execution_count": null,
   "id": "1a50d3ff",
   "metadata": {},
   "outputs": [],
   "source": [
    "# Seaborn: Easy to use for pandas DataFrames!\n",
    "sns.histplot(data=df, x = \"Age\", bins)\n",
    "plt.show()"
   ]
  },
  {
   "cell_type": "code",
   "execution_count": null,
   "id": "6e601932",
   "metadata": {},
   "outputs": [],
   "source": [
    "sns.set_style(\"ticks\")  # styles: {darkgrid, whitegrid, dark, white, ticks}"
   ]
  },
  {
   "cell_type": "code",
   "execution_count": 32,
   "id": "892fdc63",
   "metadata": {},
   "outputs": [
    {
     "data": {
      "text/plain": [
       "32.50978792822186"
      ]
     },
     "execution_count": 32,
     "metadata": {},
     "output_type": "execute_result"
    }
   ],
   "source": [
    "mean_age = df[\"Age\"].mean()\n",
    "mean_age"
   ]
  },
  {
   "cell_type": "code",
   "execution_count": null,
   "id": "6f669d5d",
   "metadata": {},
   "outputs": [],
   "source": [
    "sns.histplot(df, x='Age', bins=bins)\n",
    "\n",
    "# Compute average age\n",
    "\n",
    "print(mean_age)\n",
    "plt.axvline(mean_age, label=f'mean age of: (mean_age: .0f)', color=\"red\")\n",
    "# Highlight average age by plotting a vertical line\n",
    "\n",
    "plt.legend()\n",
    "plt.show()"
   ]
  },
  {
   "cell_type": "code",
   "execution_count": null,
   "id": "f64df283",
   "metadata": {},
   "outputs": [],
   "source": [
    "# Width: 3 inches\n",
    "plt.figure(figsize=(3, 2))\n",
    "plt.title(\"Age distribution\")\n",
    "\n",
    "# Histogram\n",
    "sns.histplot(df, x='Age', bins=bins)\n",
    "\n",
    "# Highlight average age by plotting a vertical line\n",
    "\n",
    "\n",
    "# Declutter: Remove the upper and right border\n",
    "\n",
    "\n",
    "# Save as SVG\n",
    "plt.savefig(\"plots/age.svg\", bbox_inches=\"tight\")\n",
    "plt.show()"
   ]
  },
  {
   "cell_type": "markdown",
   "id": "ef76c162",
   "metadata": {},
   "source": [
    "## Exploring age and total years of experience"
   ]
  },
  {
   "cell_type": "code",
   "execution_count": 33,
   "id": "402110e7",
   "metadata": {},
   "outputs": [
    {
     "data": {
      "text/plain": [
       "1253"
      ]
     },
     "execution_count": 33,
     "metadata": {},
     "output_type": "execute_result"
    }
   ],
   "source": [
    "# Let's make a copy\n",
    "df = data_df.copy()\n",
    "len(df)"
   ]
  },
  {
   "cell_type": "code",
   "execution_count": 34,
   "id": "47121277",
   "metadata": {},
   "outputs": [
    {
     "data": {
      "text/plain": [
       "1237"
      ]
     },
     "execution_count": 34,
     "metadata": {},
     "output_type": "execute_result"
    }
   ],
   "source": [
    "# remove NaN's from \"Total years of experience\"\n",
    "df = df[~df[\"Total years of experience\"].isnull()]\n",
    "len(df)"
   ]
  },
  {
   "cell_type": "code",
   "execution_count": 36,
   "id": "c31c3c8d",
   "metadata": {},
   "outputs": [
    {
     "data": {
      "image/png": "[encoded data removed]",
      "text/plain": [
       "<Figure size 1200x500 with 1 Axes>"
      ]
     },
     "metadata": {},
     "output_type": "display_data"
    }
   ],
   "source": [
    "# Scatter plot: Years of experience vs. age\n",
    "plt.figure(figsize=(12, 5))\n",
    "plt.scatter(df[\"Total years of experience\"], df[\"Age\"])\n",
    "_ = plt.xticks(rotation=90)"
   ]
  },
  {
   "cell_type": "code",
   "execution_count": 37,
   "id": "e57eafea",
   "metadata": {},
   "outputs": [
    {
     "data": {
      "text/plain": [
       "dtype('O')"
      ]
     },
     "execution_count": 37,
     "metadata": {},
     "output_type": "execute_result"
    }
   ],
   "source": [
    "# Check datatype of the column\n",
    "df[\"Total years of experience\"].dtype"
   ]
  },
  {
   "cell_type": "markdown",
   "id": "f68b21e5",
   "metadata": {},
   "source": [
    "Pandas datatype **object (O)**: String or mixed numeric and non-numeric values"
   ]
  },
  {
   "cell_type": "code",
   "execution_count": 38,
   "id": "6a31a25f",
   "metadata": {
    "scrolled": true
   },
   "outputs": [
    {
     "data": {
      "text/plain": [
       "1230"
      ]
     },
     "execution_count": 38,
     "metadata": {},
     "output_type": "execute_result"
    }
   ],
   "source": [
    "# replace non-numeric values in column \"Total years of experience\" with NaN\n",
    "df[\"Total years of experience\"] = df[\"Total years of experience\"].apply(pd.to_numeric, errors=\"coerce\")\n",
    "\n",
    "# remove NaN's from \"Total years of experience\" again\n",
    "df = df[~df[\"Total years of experience\"].isnull()]\n",
    "len(df)"
   ]
  },
  {
   "cell_type": "code",
   "execution_count": 39,
   "id": "2dfa052f",
   "metadata": {},
   "outputs": [
    {
     "data": {
      "text/plain": [
       "dtype('float64')"
      ]
     },
     "execution_count": 39,
     "metadata": {},
     "output_type": "execute_result"
    }
   ],
   "source": [
    "# Check datatype of the column\n",
    "df[\"Total years of experience\"].dtype"
   ]
  },
  {
   "cell_type": "code",
   "execution_count": 40,
   "id": "87c7b730",
   "metadata": {},
   "outputs": [
    {
     "data": {
      "text/plain": [
       "Text(0.5, 0, 'Total years of experience')"
      ]
     },
     "execution_count": 40,
     "metadata": {},
     "output_type": "execute_result"
    },
    {
     "data": {
      "image/png": "[encoded data removed]",
      "text/plain": [
       "<Figure size 1200x500 with 1 Axes>"
      ]
     },
     "metadata": {},
     "output_type": "display_data"
    }
   ],
   "source": [
    "# plot it again\n",
    "plt.figure(figsize=(12, 5))\n",
    "plt.scatter(df[\"Total years of experience\"], df[\"Age\"])\n",
    "plt.xlabel(\"Total years of experience\")"
   ]
  },
  {
   "cell_type": "markdown",
   "id": "a09030cb",
   "metadata": {},
   "source": [
    "**Remove outliers**"
   ]
  },
  {
   "cell_type": "code",
   "execution_count": 43,
   "id": "ba991302",
   "metadata": {},
   "outputs": [
    {
     "data": {
      "image/png": "[encoded data removed]",
      "text/plain": [
       "<Figure size 640x480 with 1 Axes>"
      ]
     },
     "metadata": {},
     "output_type": "display_data"
    },
    {
     "data": {
      "image/png": "[encoded data removed]",
      "text/plain": [
       "<Figure size 640x480 with 1 Axes>"
      ]
     },
     "metadata": {},
     "output_type": "display_data"
    }
   ],
   "source": [
    "df[\"Total years of experience\"].plot.hist(bins=100)\n",
    "plt.xlabel(\"Total years of experience\")\n",
    "plt.xlim(0,100)\n",
    "plt.show()\n",
    "# --> positively skewed distribution\n",
    "\n",
    "boxplot = plt.boxplot(df[\"Total years of experience\"], showfliers=False)\n",
    "plt.ylabel(\"Years\")\n",
    "plt.show()"
   ]
  },
  {
   "cell_type": "code",
   "execution_count": 44,
   "id": "99100bcb",
   "metadata": {},
   "outputs": [
    {
     "data": {
      "text/plain": [
       "[array([5., 0.]), array([12., 22.])]"
      ]
     },
     "execution_count": 44,
     "metadata": {},
     "output_type": "execute_result"
    }
   ],
   "source": [
    "[item.get_ydata() for item in boxplot['whiskers']]"
   ]
  },
  {
   "cell_type": "code",
   "execution_count": 45,
   "id": "457310a8",
   "metadata": {},
   "outputs": [
    {
     "data": {
      "text/plain": [
       "count    1230.000000\n",
       "mean        9.078130\n",
       "std        11.901317\n",
       "min         0.000000\n",
       "25%         5.000000\n",
       "50%         8.000000\n",
       "75%        12.000000\n",
       "max       383.000000\n",
       "Name: Total years of experience, dtype: float64"
      ]
     },
     "execution_count": 45,
     "metadata": {},
     "output_type": "execute_result"
    }
   ],
   "source": [
    "df['Total years of experience'].describe()"
   ]
  },
  {
   "cell_type": "code",
   "execution_count": 46,
   "id": "4373877c",
   "metadata": {},
   "outputs": [],
   "source": [
    "Q1 = df['Total years of experience'].describe()[\"25%\"]\n",
    "Q3 = df['Total years of experience'].describe()[\"75%\"]"
   ]
  },
  {
   "cell_type": "code",
   "execution_count": 48,
   "id": "6e094ae2",
   "metadata": {},
   "outputs": [
    {
     "data": {
      "text/plain": [
       "22.5"
      ]
     },
     "execution_count": 48,
     "metadata": {},
     "output_type": "execute_result"
    }
   ],
   "source": [
    "#Q3 + whis*(Q3-Q1)\n",
    "upper_limit = Q3 + 1.5*(Q3-Q1)\n",
    "upper_limit"
   ]
  },
  {
   "cell_type": "code",
   "execution_count": 49,
   "id": "f15357b7",
   "metadata": {},
   "outputs": [
    {
     "data": {
      "text/plain": [
       "-5.5"
      ]
     },
     "execution_count": 49,
     "metadata": {},
     "output_type": "execute_result"
    }
   ],
   "source": [
    "# Q1 - whis*(Q3-Q1)\n",
    "lower_limit = Q1 - 1.5*(Q3-Q1)\n",
    "lower_limit"
   ]
  },
  {
   "cell_type": "code",
   "execution_count": null,
   "id": "395bd2ed",
   "metadata": {},
   "outputs": [],
   "source": [
    "# Apply the limits to our DataFrame\n",
    "df = df['Total years of experience'] > lower_limit) & (df['Total years of experience']"
   ]
  },
  {
   "cell_type": "code",
   "execution_count": null,
   "id": "8c0c3d74",
   "metadata": {},
   "outputs": [],
   "source": [
    "# plot it again without outliers\n",
    "plt.figure(figsize=(10, 5))\n",
    "plt.scatter(df[\"Total years of experience\"], df[\"Age\"])\n",
    "plt.xlabel(\"\")\n",
    "plt.show()"
   ]
  },
  {
   "cell_type": "code",
   "execution_count": null,
   "id": "b78a8069",
   "metadata": {},
   "outputs": [],
   "source": [
    "plt.figure(figsize=(3, 2))\n",
    "plt.title(\"Age vs. years of experience\")\n",
    "plt.xlabel(\"Years of experience\")\n",
    "plt.ylabel(\"Age in years\")\n",
    "\n",
    "# Scatter plot\n",
    "plt.scatter(df[\"Total years of experience\"], df[\"Age\"], s=10)\n",
    "\n",
    "# Declutter\n",
    "sns.despine()\n",
    "\n",
    "# Save as SVG\n",
    "plt.savefig(\"plots/age_experience.svg\", bbox_inches=\"tight\")\n",
    "plt.show()"
   ]
  },
  {
   "cell_type": "markdown",
   "id": "c0d8804c",
   "metadata": {},
   "source": [
    "## Analyzing salary & seniority level\n",
    "Now, let's explore the yearly brutto salary and how it differs for seniority levels. <br>\n",
    "We will look at different plot types for visualizing distributions and for comparing distributions among groups."
   ]
  },
  {
   "cell_type": "code",
   "execution_count": 50,
   "id": "a77e2707",
   "metadata": {},
   "outputs": [],
   "source": [
    "# Let's make a copy\n",
    "df = data_df.copy()"
   ]
  },
  {
   "cell_type": "code",
   "execution_count": null,
   "id": "a619ea5d",
   "metadata": {},
   "outputs": [],
   "source": [
    "df = df.rename(columns={\"Yearly brutto salary (without bonus and stocks) in EUR\": \"Yearly brutto salary in EUR\"})"
   ]
  },
  {
   "cell_type": "code",
   "execution_count": 53,
   "id": "9861aad4",
   "metadata": {},
   "outputs": [
    {
     "data": {
      "text/plain": [
       "<Axes: ylabel='Yearly brutto salary in EUR'>"
      ]
     },
     "execution_count": 53,
     "metadata": {},
     "output_type": "execute_result"
    },
    {
     "data": {
      "image/png": "[encoded data removed]",
      "text/plain": [
       "<Figure size 640x480 with 1 Axes>"
      ]
     },
     "metadata": {},
     "output_type": "display_data"
    }
   ],
   "source": [
    "# Boxplot of salary distribution (here: using seaborn)\n",
    "sns.boxplot(data=df, y=\"Yearly brutto salary in EUR\", showfliers = False)"
   ]
  },
  {
   "cell_type": "markdown",
   "id": "5ae92ccf",
   "metadata": {},
   "source": [
    "Outlier removal, as shown before:"
   ]
  },
  {
   "cell_type": "code",
   "execution_count": 54,
   "id": "61b9e8b5",
   "metadata": {},
   "outputs": [
    {
     "data": {
      "text/plain": [
       "count    1.253000e+03\n",
       "mean     8.027904e+07\n",
       "std      2.825061e+09\n",
       "min      1.000100e+04\n",
       "25%      5.880000e+04\n",
       "50%      7.000000e+04\n",
       "75%      8.000000e+04\n",
       "max      1.000000e+11\n",
       "Name: Yearly brutto salary in EUR, dtype: float64"
      ]
     },
     "execution_count": 54,
     "metadata": {},
     "output_type": "execute_result"
    }
   ],
   "source": [
    "df['Yearly brutto salary in EUR'].describe()"
   ]
  },
  {
   "cell_type": "code",
   "execution_count": 55,
   "id": "cb3321ca",
   "metadata": {},
   "outputs": [],
   "source": [
    "# Q3 + whis*(Q3 - Q1)\n",
    "upper_limit = 80000 + 1.5*(80000 - 58800)\n",
    "\n",
    "# Q1 - whis*(Q3 - Q1)\n",
    "lower_limit = 58800 - 1.5*(80000 - 58800)\n",
    "\n",
    "# Apply limits to DataFrame\n",
    "df = df[(df[\"Yearly brutto salary in EUR\"] <= upper_limit) &\n",
    "        (df[\"Yearly brutto salary in EUR\"] >= lower_limit)]"
   ]
  },
  {
   "cell_type": "code",
   "execution_count": 58,
   "id": "2c04ee32",
   "metadata": {},
   "outputs": [
    {
     "ename": "ValueError",
     "evalue": "The truth value of a Series is ambiguous. Use a.empty, a.bool(), a.item(), a.any() or a.all().",
     "output_type": "error",
     "traceback": [
      "\u001b[1;31m---------------------------------------------------------------------------\u001b[0m",
      "\u001b[1;31mValueError\u001b[0m                                Traceback (most recent call last)",
      "\u001b[1;32m~\\AppData\\Local\\Temp\\ipykernel_15344\\3655720610.py\u001b[0m in \u001b[0;36m?\u001b[1;34m()\u001b[0m\n\u001b[1;32m----> 5\u001b[1;33m \u001b[1;31m# Boxplot\u001b[0m\u001b[1;33m\u001b[0m\u001b[1;33m\u001b[0m\u001b[0m\n\u001b[0m\u001b[0;32m      6\u001b[0m \u001b[0msns\u001b[0m\u001b[1;33m.\u001b[0m\u001b[0mboxplot\u001b[0m\u001b[1;33m(\u001b[0m\u001b[0mdata\u001b[0m\u001b[1;33m=\u001b[0m\u001b[0mdf\u001b[0m\u001b[1;33m,\u001b[0m \u001b[0my\u001b[0m\u001b[1;33m=\u001b[0m\u001b[1;34m\"Yearly brutto salary in EUR\"\u001b[0m\u001b[1;33m)\u001b[0m\u001b[1;33m\u001b[0m\u001b[1;33m\u001b[0m\u001b[0m\n\u001b[0;32m      7\u001b[0m \u001b[1;33m\u001b[0m\u001b[0m\n\u001b[0;32m      8\u001b[0m \u001b[1;31m# Highlight median\u001b[0m\u001b[1;33m\u001b[0m\u001b[1;33m\u001b[0m\u001b[0m\n",
      "\u001b[1;32mc:\\Users\\Norbert\\miniconda3\\envs\\dsss\\lib\\site-packages\\matplotlib\\pyplot.py\u001b[0m in \u001b[0;36m?\u001b[1;34m(y, xmin, xmax, **kwargs)\u001b[0m\n\u001b[0;32m   2893\u001b[0m \u001b[1;33m@\u001b[0m\u001b[0m_copy_docstring_and_deprecators\u001b[0m\u001b[1;33m(\u001b[0m\u001b[0mAxes\u001b[0m\u001b[1;33m.\u001b[0m\u001b[0maxhline\u001b[0m\u001b[1;33m)\u001b[0m\u001b[1;33m\u001b[0m\u001b[1;33m\u001b[0m\u001b[0m\n\u001b[0;32m   2894\u001b[0m \u001b[1;32mdef\u001b[0m \u001b[0maxhline\u001b[0m\u001b[1;33m(\u001b[0m\u001b[0my\u001b[0m\u001b[1;33m:\u001b[0m \u001b[0mfloat\u001b[0m \u001b[1;33m=\u001b[0m \u001b[1;36m0\u001b[0m\u001b[1;33m,\u001b[0m \u001b[0mxmin\u001b[0m\u001b[1;33m:\u001b[0m \u001b[0mfloat\u001b[0m \u001b[1;33m=\u001b[0m \u001b[1;36m0\u001b[0m\u001b[1;33m,\u001b[0m \u001b[0mxmax\u001b[0m\u001b[1;33m:\u001b[0m \u001b[0mfloat\u001b[0m \u001b[1;33m=\u001b[0m \u001b[1;36m1\u001b[0m\u001b[1;33m,\u001b[0m \u001b[1;33m**\u001b[0m\u001b[0mkwargs\u001b[0m\u001b[1;33m)\u001b[0m \u001b[1;33m->\u001b[0m \u001b[0mLine2D\u001b[0m\u001b[1;33m:\u001b[0m\u001b[1;33m\u001b[0m\u001b[1;33m\u001b[0m\u001b[0m\n\u001b[1;32m-> 2895\u001b[1;33m     \u001b[1;32mreturn\u001b[0m \u001b[0mgca\u001b[0m\u001b[1;33m(\u001b[0m\u001b[1;33m)\u001b[0m\u001b[1;33m.\u001b[0m\u001b[0maxhline\u001b[0m\u001b[1;33m(\u001b[0m\u001b[0my\u001b[0m\u001b[1;33m=\u001b[0m\u001b[0my\u001b[0m\u001b[1;33m,\u001b[0m \u001b[0mxmin\u001b[0m\u001b[1;33m=\u001b[0m\u001b[0mxmin\u001b[0m\u001b[1;33m,\u001b[0m \u001b[0mxmax\u001b[0m\u001b[1;33m=\u001b[0m\u001b[0mxmax\u001b[0m\u001b[1;33m,\u001b[0m \u001b[1;33m**\u001b[0m\u001b[0mkwargs\u001b[0m\u001b[1;33m)\u001b[0m\u001b[1;33m\u001b[0m\u001b[1;33m\u001b[0m\u001b[0m\n\u001b[0m",
      "\u001b[1;32mc:\\Users\\Norbert\\miniconda3\\envs\\dsss\\lib\\site-packages\\matplotlib\\axes\\_axes.py\u001b[0m in \u001b[0;36m?\u001b[1;34m(self, y, xmin, xmax, **kwargs)\u001b[0m\n\u001b[0;32m    820\u001b[0m         \u001b[0mymin\u001b[0m\u001b[1;33m,\u001b[0m \u001b[0mymax\u001b[0m \u001b[1;33m=\u001b[0m \u001b[0mself\u001b[0m\u001b[1;33m.\u001b[0m\u001b[0mget_ybound\u001b[0m\u001b[1;33m(\u001b[0m\u001b[1;33m)\u001b[0m\u001b[1;33m\u001b[0m\u001b[1;33m\u001b[0m\u001b[0m\n\u001b[0;32m    821\u001b[0m \u001b[1;33m\u001b[0m\u001b[0m\n\u001b[0;32m    822\u001b[0m         \u001b[1;31m# Strip away the units for comparison with non-unitized bounds.\u001b[0m\u001b[1;33m\u001b[0m\u001b[1;33m\u001b[0m\u001b[0m\n\u001b[0;32m    823\u001b[0m         \u001b[0myy\u001b[0m\u001b[1;33m,\u001b[0m \u001b[1;33m=\u001b[0m \u001b[0mself\u001b[0m\u001b[1;33m.\u001b[0m\u001b[0m_process_unit_info\u001b[0m\u001b[1;33m(\u001b[0m\u001b[1;33m[\u001b[0m\u001b[1;33m(\u001b[0m\u001b[1;34m\"y\"\u001b[0m\u001b[1;33m,\u001b[0m \u001b[0my\u001b[0m\u001b[1;33m)\u001b[0m\u001b[1;33m]\u001b[0m\u001b[1;33m,\u001b[0m \u001b[0mkwargs\u001b[0m\u001b[1;33m)\u001b[0m\u001b[1;33m\u001b[0m\u001b[1;33m\u001b[0m\u001b[0m\n\u001b[1;32m--> 824\u001b[1;33m         \u001b[0mscaley\u001b[0m \u001b[1;33m=\u001b[0m \u001b[1;33m(\u001b[0m\u001b[0myy\u001b[0m \u001b[1;33m<\u001b[0m \u001b[0mymin\u001b[0m\u001b[1;33m)\u001b[0m \u001b[1;32mor\u001b[0m \u001b[1;33m(\u001b[0m\u001b[0myy\u001b[0m \u001b[1;33m>\u001b[0m \u001b[0mymax\u001b[0m\u001b[1;33m)\u001b[0m\u001b[1;33m\u001b[0m\u001b[1;33m\u001b[0m\u001b[0m\n\u001b[0m\u001b[0;32m    825\u001b[0m \u001b[1;33m\u001b[0m\u001b[0m\n\u001b[0;32m    826\u001b[0m         \u001b[0mtrans\u001b[0m \u001b[1;33m=\u001b[0m \u001b[0mself\u001b[0m\u001b[1;33m.\u001b[0m\u001b[0mget_yaxis_transform\u001b[0m\u001b[1;33m(\u001b[0m\u001b[0mwhich\u001b[0m\u001b[1;33m=\u001b[0m\u001b[1;34m'grid'\u001b[0m\u001b[1;33m)\u001b[0m\u001b[1;33m\u001b[0m\u001b[1;33m\u001b[0m\u001b[0m\n\u001b[0;32m    827\u001b[0m         \u001b[0ml\u001b[0m \u001b[1;33m=\u001b[0m \u001b[0mmlines\u001b[0m\u001b[1;33m.\u001b[0m\u001b[0mLine2D\u001b[0m\u001b[1;33m(\u001b[0m\u001b[1;33m[\u001b[0m\u001b[0mxmin\u001b[0m\u001b[1;33m,\u001b[0m \u001b[0mxmax\u001b[0m\u001b[1;33m]\u001b[0m\u001b[1;33m,\u001b[0m \u001b[1;33m[\u001b[0m\u001b[0my\u001b[0m\u001b[1;33m,\u001b[0m \u001b[0my\u001b[0m\u001b[1;33m]\u001b[0m\u001b[1;33m,\u001b[0m \u001b[0mtransform\u001b[0m\u001b[1;33m=\u001b[0m\u001b[0mtrans\u001b[0m\u001b[1;33m,\u001b[0m \u001b[1;33m**\u001b[0m\u001b[0mkwargs\u001b[0m\u001b[1;33m)\u001b[0m\u001b[1;33m\u001b[0m\u001b[1;33m\u001b[0m\u001b[0m\n",
      "\u001b[1;32mc:\\Users\\Norbert\\miniconda3\\envs\\dsss\\lib\\site-packages\\pandas\\core\\generic.py\u001b[0m in \u001b[0;36m?\u001b[1;34m(self)\u001b[0m\n\u001b[0;32m   1575\u001b[0m     \u001b[1;33m@\u001b[0m\u001b[0mfinal\u001b[0m\u001b[1;33m\u001b[0m\u001b[1;33m\u001b[0m\u001b[0m\n\u001b[0;32m   1576\u001b[0m     \u001b[1;32mdef\u001b[0m \u001b[0m__nonzero__\u001b[0m\u001b[1;33m(\u001b[0m\u001b[0mself\u001b[0m\u001b[1;33m)\u001b[0m \u001b[1;33m->\u001b[0m \u001b[0mNoReturn\u001b[0m\u001b[1;33m:\u001b[0m\u001b[1;33m\u001b[0m\u001b[1;33m\u001b[0m\u001b[0m\n\u001b[1;32m-> 1577\u001b[1;33m         raise ValueError(\n\u001b[0m\u001b[0;32m   1578\u001b[0m             \u001b[1;34mf\"The truth value of a {type(self).__name__} is ambiguous. \"\u001b[0m\u001b[1;33m\u001b[0m\u001b[1;33m\u001b[0m\u001b[0m\n\u001b[0;32m   1579\u001b[0m             \u001b[1;34m\"Use a.empty, a.bool(), a.item(), a.any() or a.all().\"\u001b[0m\u001b[1;33m\u001b[0m\u001b[1;33m\u001b[0m\u001b[0m\n\u001b[0;32m   1580\u001b[0m         )\n",
      "\u001b[1;31mValueError\u001b[0m: The truth value of a Series is ambiguous. Use a.empty, a.bool(), a.item(), a.any() or a.all()."
     ]
    },
    {
     "data": {
      "image/png": "[encoded data removed]",
      "text/plain": [
       "<Figure size 640x480 with 1 Axes>"
      ]
     },
     "metadata": {},
     "output_type": "display_data"
    }
   ],
   "source": [
    "# Boxplot\n",
    "sns.boxplot(data=df, y=\"Yearly brutto salary in EUR\")\n",
    "\n",
    "# Highlight median\n",
    "plt.axhline(df[\"Yearly brutto salary in EUR\"], color=\"red\")\n",
    "\n",
    "plt.show()"
   ]
  },
  {
   "cell_type": "code",
   "execution_count": null,
   "id": "eca5c4c4",
   "metadata": {},
   "outputs": [],
   "source": [
    "# Barplot with errorbar (standard deviation)\n",
    "\n",
    "\n",
    "# Highlight mean\n",
    "\n",
    "\n",
    "plt.show()"
   ]
  },
  {
   "cell_type": "code",
   "execution_count": null,
   "id": "a77e3ec3",
   "metadata": {},
   "outputs": [],
   "source": [
    "# Remove NaN's from column \"Seniority level\"\n",
    "df = df[~df['Seniority level'].isnull()]"
   ]
  },
  {
   "cell_type": "code",
   "execution_count": null,
   "id": "f4247be1",
   "metadata": {},
   "outputs": [],
   "source": [
    "sns.boxplot(data=df, y=\"Yearly brutto salary in EUR\", x=\"Seniority level\")\n",
    "plt.show()"
   ]
  },
  {
   "cell_type": "code",
   "execution_count": null,
   "id": "1ec68139",
   "metadata": {},
   "outputs": [],
   "source": [
    "# Find top 5 seniority levels\n",
    "\n",
    "top5"
   ]
  },
  {
   "cell_type": "code",
   "execution_count": null,
   "id": "bf622feb",
   "metadata": {},
   "outputs": [],
   "source": [
    "# Remove rows, only keep top 5 seniority levels\n"
   ]
  },
  {
   "cell_type": "code",
   "execution_count": null,
   "id": "861af7b0",
   "metadata": {},
   "outputs": [],
   "source": [
    "# Boxplot\n",
    "\n",
    "plt.show()"
   ]
  },
  {
   "cell_type": "code",
   "execution_count": null,
   "id": "cace5d8f",
   "metadata": {},
   "outputs": [],
   "source": [
    "# Violinplot\n",
    "\n",
    "plt.show()"
   ]
  },
  {
   "cell_type": "code",
   "execution_count": null,
   "id": "4def335c",
   "metadata": {},
   "outputs": [],
   "source": [
    "# Barplot with errorbar\n",
    "\n",
    "plt.show()"
   ]
  },
  {
   "cell_type": "code",
   "execution_count": null,
   "id": "01b6c391",
   "metadata": {},
   "outputs": [],
   "source": [
    "# Only errorbar\n",
    "\n",
    "plt.show()"
   ]
  },
  {
   "cell_type": "code",
   "execution_count": null,
   "id": "198fefe6",
   "metadata": {},
   "outputs": [],
   "source": [
    "# Show raw values -> stripplot\n",
    "\n",
    "plt.show()"
   ]
  },
  {
   "cell_type": "code",
   "execution_count": null,
   "id": "cf4e0a7a",
   "metadata": {},
   "outputs": [],
   "source": [
    "# Show raw values -> swarmplot\n",
    "\n",
    "plt.show()"
   ]
  },
  {
   "cell_type": "code",
   "execution_count": null,
   "id": "0daf9a9e",
   "metadata": {},
   "outputs": [],
   "source": [
    "# Order seniority levels by their median salary\n",
    "\n",
    "order"
   ]
  },
  {
   "cell_type": "code",
   "execution_count": null,
   "id": "379c4970",
   "metadata": {},
   "outputs": [],
   "source": [
    "plt.figure(figsize=(3.5, 2))\n",
    "plt.title(\"Salary by seniority level\")\n",
    "\n",
    "# Boxplot\n",
    "\n",
    "# Stripplot\n",
    "\n",
    "\n",
    "# Declutter\n",
    "sns.despine()\n",
    "\n",
    "# Save as SVG\n",
    "plt.savefig(\"plots/salary_seniority.svg\", bbox_inches=\"tight\")\n",
    "plt.show()"
   ]
  },
  {
   "cell_type": "markdown",
   "id": "2dc6ecd7",
   "metadata": {},
   "source": [
    "## Bonus: Colormaps"
   ]
  },
  {
   "cell_type": "markdown",
   "id": "40000aeb",
   "metadata": {},
   "source": [
    "### Qualitative colormaps\n",
    "E.g. for showing different categories"
   ]
  },
  {
   "cell_type": "code",
   "execution_count": null,
   "id": "ba52a1f8",
   "metadata": {
    "scrolled": true
   },
   "outputs": [],
   "source": [
    "sns.color_palette(\"tab10\")"
   ]
  },
  {
   "cell_type": "code",
   "execution_count": null,
   "id": "b6ef32ab",
   "metadata": {},
   "outputs": [],
   "source": [
    "sns.color_palette(\"pastel\")"
   ]
  },
  {
   "cell_type": "code",
   "execution_count": null,
   "id": "3f5f53aa",
   "metadata": {
    "scrolled": true
   },
   "outputs": [],
   "source": [
    "sns.color_palette(\"Set1\")"
   ]
  },
  {
   "cell_type": "markdown",
   "id": "1cec6f78",
   "metadata": {},
   "source": [
    "### Sequential colormaps\n"
   ]
  },
  {
   "cell_type": "code",
   "execution_count": null,
   "id": "9536ed3f",
   "metadata": {},
   "outputs": [],
   "source": [
    "sns.color_palette(\"Blues\", as_cmap=True)"
   ]
  },
  {
   "cell_type": "markdown",
   "id": "1614c48d",
   "metadata": {},
   "source": [
    "### Perceptually uniform sequential colormaps\n",
    "= equal steps in values are perceived as equal steps in the color space <br>\n",
    "Great for displaying heatmaps for example"
   ]
  },
  {
   "cell_type": "code",
   "execution_count": null,
   "id": "78597acf",
   "metadata": {},
   "outputs": [],
   "source": [
    "sns.color_palette(\"viridis\", as_cmap=True)"
   ]
  },
  {
   "cell_type": "code",
   "execution_count": null,
   "id": "1e1eb927",
   "metadata": {},
   "outputs": [],
   "source": [
    "sns.color_palette(\"plasma\", as_cmap=True)"
   ]
  },
  {
   "cell_type": "code",
   "execution_count": null,
   "id": "66acff3f",
   "metadata": {},
   "outputs": [],
   "source": [
    "# Example: \"Flights\" dataset\n",
    "flights = sns.load_dataset(\"flights\")\n",
    "sns.heatmap(flights.pivot(index=\"month\", columns=\"year\", values=\"passengers\"), cmap=\"plasma\")\n",
    "plt.show()"
   ]
  },
  {
   "cell_type": "markdown",
   "id": "3acfcf22",
   "metadata": {},
   "source": [
    "### Diverging colormaps\n",
    "Use these if there is a meaningful middle point. <br>\n",
    "Example: Spearman correlation (-1: negative correlation, 0: no correlation, 1: positive correlation)"
   ]
  },
  {
   "cell_type": "code",
   "execution_count": null,
   "id": "00dbfc13",
   "metadata": {},
   "outputs": [],
   "source": [
    "sns.color_palette(\"RdBu\", as_cmap=True)"
   ]
  },
  {
   "cell_type": "code",
   "execution_count": null,
   "id": "f5b3ec37",
   "metadata": {
    "scrolled": false
   },
   "outputs": [],
   "source": [
    "sns.color_palette(\"coolwarm\", as_cmap=True)"
   ]
  },
  {
   "cell_type": "markdown",
   "id": "9fd5c9b3",
   "metadata": {},
   "source": [
    "**matplotlib colormaps** and when to use which: https://matplotlib.org/stable/users/explain/colors/colormaps.html"
   ]
  }
 ],
 "metadata": {
  "kernelspec": {
   "display_name": "dsss",
   "language": "python",
   "name": "python3"
  },
  "language_info": {
   "codemirror_mode": {
    "name": "ipython",
    "version": 3
   },
   "file_extension": ".py",
   "mimetype": "text/x-python",
   "name": "python",
   "nbconvert_exporter": "python",
   "pygments_lexer": "ipython3",
   "version": "3.9.20"
  }
 },
 "nbformat": 4,
 "nbformat_minor": 5
}
